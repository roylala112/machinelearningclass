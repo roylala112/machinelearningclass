{
  "nbformat": 4,
  "nbformat_minor": 0,
  "metadata": {
    "colab": {
      "provenance": []
    },
    "kernelspec": {
      "name": "python3",
      "display_name": "Python 3"
    },
    "language_info": {
      "name": "python"
    }
  },
  "cells": [
    {
      "cell_type": "code",
      "execution_count": null,
      "metadata": {
        "id": "Z1zFVWNTWt4g"
      },
      "outputs": [],
      "source": [
        "import tensorflow as tf\n",
        "from tensorflow.keras import layers, models\n",
        "\n",
        "# 데이터 로드\n",
        "fashion_mnist = tf.keras.datasets.fashion_mnist\n",
        "(x_train, y_train), (x_test, y_test) = fashion_mnist.load_data()"
      ]
    },
    {
      "cell_type": "code",
      "source": [
        "\n",
        "# 정규화 (0~1)\n",
        "x_train = x_train / 255.0\n",
        "x_test = x_test / 255.0\n"
      ],
      "metadata": {
        "id": "89AUphxHW-1F"
      },
      "execution_count": null,
      "outputs": []
    },
    {
      "cell_type": "code",
      "source": [
        "import tensorflow as tf\n",
        "from tensorflow.keras import layers, models\n",
        "\n",
        "# DNN 모델 구성\n",
        "model_dnn = models.Sequential([\n",
        "    layers.Flatten(input_shape=(28, 28)),\n",
        "    layers.Dense(128, activation='relu'), # Reduced neurons from 256 to 128\n",
        "    layers.Dropout(0.3),\n",
        "    layers.Dense(64, activation='relu'),  # Reduced neurons from 128 to 64\n",
        "    layers.Dropout(0.3),\n",
        "    layers.Dense(10, activation='softmax')\n",
        "])"
      ],
      "metadata": {
        "colab": {
          "base_uri": "https://localhost:8080/"
        },
        "id": "CcYDECTZXAb0",
        "outputId": "3a363b60-e8d2-4c2b-f254-c79061dcfba6"
      },
      "execution_count": null,
      "outputs": [
        {
          "output_type": "stream",
          "name": "stderr",
          "text": [
            "/usr/local/lib/python3.12/dist-packages/keras/src/layers/reshaping/flatten.py:37: UserWarning: Do not pass an `input_shape`/`input_dim` argument to a layer. When using Sequential models, prefer using an `Input(shape)` object as the first layer in the model instead.\n",
            "  super().__init__(**kwargs)\n"
          ]
        }
      ]
    },
    {
      "cell_type": "code",
      "source": [
        "# 컴파일\n",
        "model_dnn.compile(optimizer='adam',\n",
        "                  loss='sparse_categorical_crossentropy',\n",
        "                  metrics=['accuracy'])"
      ],
      "metadata": {
        "id": "JoCVmoXOXC_g"
      },
      "execution_count": null,
      "outputs": []
    },
    {
      "cell_type": "code",
      "source": [
        "# 학습\n",
        "history_dnn = model_dnn.fit(x_train, y_train, epochs=10,\n",
        "                            validation_split=0.1, batch_size=128, verbose=2)"
      ],
      "metadata": {
        "colab": {
          "base_uri": "https://localhost:8080/"
        },
        "id": "1D1dPCmxXGTF",
        "outputId": "183824bb-9dac-4bb3-fa7f-f0385b08e904"
      },
      "execution_count": null,
      "outputs": [
        {
          "output_type": "stream",
          "name": "stdout",
          "text": [
            "Epoch 1/10\n",
            "422/422 - 4s - 9ms/step - accuracy: 0.7424 - loss: 0.7360 - val_accuracy: 0.8382 - val_loss: 0.4468\n",
            "Epoch 2/10\n",
            "422/422 - 2s - 6ms/step - accuracy: 0.8283 - loss: 0.4850 - val_accuracy: 0.8533 - val_loss: 0.3972\n",
            "Epoch 3/10\n",
            "422/422 - 3s - 7ms/step - accuracy: 0.8437 - loss: 0.4364 - val_accuracy: 0.8615 - val_loss: 0.3731\n",
            "Epoch 4/10\n",
            "422/422 - 3s - 7ms/step - accuracy: 0.8535 - loss: 0.4085 - val_accuracy: 0.8695 - val_loss: 0.3566\n",
            "Epoch 5/10\n",
            "422/422 - 2s - 6ms/step - accuracy: 0.8575 - loss: 0.3933 - val_accuracy: 0.8743 - val_loss: 0.3477\n",
            "Epoch 6/10\n",
            "422/422 - 2s - 6ms/step - accuracy: 0.8658 - loss: 0.3732 - val_accuracy: 0.8738 - val_loss: 0.3467\n",
            "Epoch 7/10\n",
            "422/422 - 2s - 6ms/step - accuracy: 0.8680 - loss: 0.3668 - val_accuracy: 0.8783 - val_loss: 0.3378\n",
            "Epoch 8/10\n",
            "422/422 - 3s - 7ms/step - accuracy: 0.8704 - loss: 0.3590 - val_accuracy: 0.8770 - val_loss: 0.3379\n",
            "Epoch 9/10\n",
            "422/422 - 3s - 6ms/step - accuracy: 0.8737 - loss: 0.3455 - val_accuracy: 0.8737 - val_loss: 0.3446\n",
            "Epoch 10/10\n",
            "422/422 - 2s - 5ms/step - accuracy: 0.8760 - loss: 0.3413 - val_accuracy: 0.8790 - val_loss: 0.3339\n"
          ]
        }
      ]
    },
    {
      "cell_type": "code",
      "source": [
        "# 평가\n",
        "test_loss, test_acc = model_dnn.evaluate(x_test, y_test, verbose=2)\n",
        "print(f\"DNN Test Accuracy: {test_acc:.4f}\")"
      ],
      "metadata": {
        "colab": {
          "base_uri": "https://localhost:8080/"
        },
        "id": "yCD2TzPRXI0a",
        "outputId": "32d9fdab-a261-41d5-e1bb-7fe37acdfbf1"
      },
      "execution_count": null,
      "outputs": [
        {
          "output_type": "stream",
          "name": "stdout",
          "text": [
            "313/313 - 1s - 2ms/step - accuracy: 0.8760 - loss: 0.3505\n",
            "DNN Test Accuracy: 0.8760\n"
          ]
        }
      ]
    },
    {
      "cell_type": "code",
      "source": [
        "import tensorflow as tf\n",
        "import numpy as np\n",
        "from tensorflow.keras import layers, models\n",
        "\n",
        "# 1️⃣ 데이터 로드\n",
        "fashion_mnist = tf.keras.datasets.fashion_mnist\n",
        "(x_train, y_train), (x_test, y_test) = fashion_mnist.load_data()\n"
      ],
      "metadata": {
        "id": "_DWEqCTzXcnt"
      },
      "execution_count": null,
      "outputs": []
    },
    {
      "cell_type": "code",
      "source": [
        "# 2️⃣ 정규화\n",
        "x_train = x_train / 255.0\n",
        "x_test = x_test / 255.0"
      ],
      "metadata": {
        "id": "uludpsvWXeVP"
      },
      "execution_count": null,
      "outputs": []
    },
    {
      "cell_type": "code",
      "source": [
        "# 3️⃣ 채널 차원 추가 (np.expand_dims 이용)\n",
        "x_train = np.expand_dims(x_train, -1)\n",
        "x_test = np.expand_dims(x_test, -1)"
      ],
      "metadata": {
        "id": "62m5VgBoXfXg"
      },
      "execution_count": null,
      "outputs": []
    },
    {
      "cell_type": "code",
      "source": [
        "print(\"x_train shape:\", x_train.shape)  # (60000, 28, 28, 1)\n",
        "print(\"x_test shape:\", x_test.shape)    # (10000, 28, 28, 1)"
      ],
      "metadata": {
        "colab": {
          "base_uri": "https://localhost:8080/"
        },
        "id": "fwCqJgLjXiOt",
        "outputId": "b1695a9a-724d-4124-ab33-26dad5578cd7"
      },
      "execution_count": null,
      "outputs": [
        {
          "output_type": "stream",
          "name": "stdout",
          "text": [
            "x_train shape: (60000, 28, 28, 1)\n",
            "x_test shape: (10000, 28, 28, 1)\n"
          ]
        }
      ]
    },
    {
      "cell_type": "code",
      "source": [
        "import tensorflow as tf\n",
        "from tensorflow.keras import layers, models\n",
        "\n",
        "# 4️⃣ CNN 모델 구성\n",
        "model = models.Sequential([\n",
        "    layers.Conv2D(8, (3, 3), activation='relu', input_shape=(28, 28, 1)), # reduced filters\n",
        "    layers.MaxPooling2D((2, 2)),\n",
        "    layers.Flatten(),\n",
        "    layers.Dropout(0.4),\n",
        "    layers.Dense(32, activation='relu'), # reduced neurons\n",
        "    layers.Dense(10, activation='softmax')\n",
        "])"
      ],
      "metadata": {
        "colab": {
          "base_uri": "https://localhost:8080/"
        },
        "id": "LnRRRfVjXlTu",
        "outputId": "1a566e5b-8b05-4783-cb2f-29dfdd444bfb"
      },
      "execution_count": null,
      "outputs": [
        {
          "output_type": "stream",
          "name": "stderr",
          "text": [
            "/usr/local/lib/python3.12/dist-packages/keras/src/layers/convolutional/base_conv.py:113: UserWarning: Do not pass an `input_shape`/`input_dim` argument to a layer. When using Sequential models, prefer using an `Input(shape)` object as the first layer in the model instead.\n",
            "  super().__init__(activity_regularizer=activity_regularizer, **kwargs)\n"
          ]
        }
      ]
    },
    {
      "cell_type": "code",
      "source": [
        "# 5️⃣ 컴파일\n",
        "model.compile(optimizer='adam',\n",
        "              loss='sparse_categorical_crossentropy',\n",
        "              metrics=['accuracy'])"
      ],
      "metadata": {
        "id": "iT4CvatdXnRX"
      },
      "execution_count": null,
      "outputs": []
    },
    {
      "cell_type": "code",
      "source": [
        "# 6️⃣ 학습\n",
        "history = model.fit(\n",
        "    x_train, y_train,\n",
        "    epochs=10,\n",
        "    batch_size=128,\n",
        "    validation_split=0.1,\n",
        "    verbose=2\n",
        ")"
      ],
      "metadata": {
        "colab": {
          "base_uri": "https://localhost:8080/"
        },
        "id": "6BJSqOvvXo7T",
        "outputId": "c2f493c5-c5cc-46e6-fd70-5083bccdaed0"
      },
      "execution_count": null,
      "outputs": [
        {
          "output_type": "stream",
          "name": "stdout",
          "text": [
            "Epoch 1/10\n",
            "422/422 - 14s - 33ms/step - accuracy: 0.7705 - loss: 0.6434 - val_accuracy: 0.8417 - val_loss: 0.4329\n",
            "Epoch 2/10\n",
            "422/422 - 13s - 30ms/step - accuracy: 0.8466 - loss: 0.4257 - val_accuracy: 0.8678 - val_loss: 0.3696\n",
            "Epoch 3/10\n",
            "422/422 - 13s - 31ms/step - accuracy: 0.8615 - loss: 0.3872 - val_accuracy: 0.8753 - val_loss: 0.3412\n",
            "Epoch 4/10\n",
            "422/422 - 20s - 47ms/step - accuracy: 0.8697 - loss: 0.3655 - val_accuracy: 0.8808 - val_loss: 0.3279\n",
            "Epoch 5/10\n",
            "422/422 - 13s - 30ms/step - accuracy: 0.8754 - loss: 0.3477 - val_accuracy: 0.8828 - val_loss: 0.3222\n",
            "Epoch 6/10\n",
            "422/422 - 13s - 30ms/step - accuracy: 0.8764 - loss: 0.3398 - val_accuracy: 0.8837 - val_loss: 0.3116\n",
            "Epoch 7/10\n",
            "422/422 - 13s - 30ms/step - accuracy: 0.8812 - loss: 0.3291 - val_accuracy: 0.8922 - val_loss: 0.2994\n",
            "Epoch 8/10\n",
            "422/422 - 13s - 30ms/step - accuracy: 0.8857 - loss: 0.3182 - val_accuracy: 0.8900 - val_loss: 0.2996\n",
            "Epoch 9/10\n",
            "422/422 - 13s - 30ms/step - accuracy: 0.8866 - loss: 0.3104 - val_accuracy: 0.8927 - val_loss: 0.2909\n",
            "Epoch 10/10\n",
            "422/422 - 13s - 30ms/step - accuracy: 0.8893 - loss: 0.3040 - val_accuracy: 0.8960 - val_loss: 0.2842\n"
          ]
        }
      ]
    },
    {
      "cell_type": "code",
      "source": [
        "# 7️⃣ 평가\n",
        "test_loss, test_acc = model.evaluate(x_test, y_test, verbose=2)\n",
        "print(f\"\\n✅ Test Accuracy: {test_acc:.4f}\")"
      ],
      "metadata": {
        "colab": {
          "base_uri": "https://localhost:8080/"
        },
        "id": "7Ee6oBD2Xp6M",
        "outputId": "7c6e9dd3-fb00-41ae-8ea1-3ffbe8aa3e97"
      },
      "execution_count": null,
      "outputs": [
        {
          "output_type": "stream",
          "name": "stdout",
          "text": [
            "313/313 - 2s - 7ms/step - accuracy: 0.8902 - loss: 0.2986\n",
            "\n",
            "✅ Test Accuracy: 0.8902\n"
          ]
        }
      ]
    },
    {
      "cell_type": "code",
      "source": [
        "# 8️⃣ 예측 예시\n",
        "predictions = model.predict(x_test[:5])\n",
        "print(\"예측 결과:\", np.argmax(predictions, axis=1))\n",
        "print(\"실제 레이블:\", y_test[:5])\n"
      ],
      "metadata": {
        "colab": {
          "base_uri": "https://localhost:8080/"
        },
        "id": "f1n5uKOYXTLT",
        "outputId": "34350c6d-95c0-4271-ae7c-020fe525cfd6"
      },
      "execution_count": null,
      "outputs": [
        {
          "output_type": "stream",
          "name": "stdout",
          "text": [
            "\u001b[1m1/1\u001b[0m \u001b[32m━━━━━━━━━━━━━━━━━━━━\u001b[0m\u001b[37m\u001b[0m \u001b[1m0s\u001b[0m 76ms/step\n",
            "예측 결과: [9 2 1 1 6]\n",
            "실제 레이블: [9 2 1 1 6]\n"
          ]
        }
      ]
    }
  ]
}
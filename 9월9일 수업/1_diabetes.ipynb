{
  "nbformat": 4,
  "nbformat_minor": 0,
  "metadata": {
    "colab": {
      "provenance": []
    },
    "kernelspec": {
      "name": "python3",
      "display_name": "Python 3"
    },
    "language_info": {
      "name": "python"
    }
  },
  "cells": [
    {
      "cell_type": "code",
      "execution_count": 3,
      "metadata": {
        "colab": {
          "base_uri": "https://localhost:8080/"
        },
        "id": "SPSDK_EkJDQU",
        "outputId": "3993e8d5-c4ee-404e-f876-9ecf50596cce"
      },
      "outputs": [
        {
          "output_type": "stream",
          "name": "stdout",
          "text": [
            "=== Test Accuracy ===\n",
            "Decision Tree : 0.7273\n",
            "Random Forest : 0.7468\n",
            "Logistic Reg. : 0.7143\n"
          ]
        }
      ],
      "source": [
        "import pandas as pd\n",
        "\n",
        "from sklearn.model_selection import train_test_split\n",
        "\n",
        "from sklearn.tree import DecisionTreeClassifier\n",
        "\n",
        "from sklearn.ensemble import RandomForestClassifier\n",
        "\n",
        "from sklearn.linear_model import LogisticRegression\n",
        "\n",
        "from sklearn.metrics import accuracy_score\n",
        "\n",
        "\n",
        "\n",
        "# -----------------------------\n",
        "\n",
        "# 1) 데이터 준비\n",
        "\n",
        "# -----------------------------\n",
        "\n",
        "df = pd.read_csv(\"/content/drive/MyDrive/diabetes.csv\").dropna()\n",
        "\n",
        "\n",
        "\n",
        "X = df.drop(columns=[\"Outcome\"])\n",
        "\n",
        "y = df[\"Outcome\"]\n",
        "\n",
        "\n",
        "\n",
        "X_train, X_test, y_train, y_test = train_test_split(\n",
        "\n",
        "    X, y, test_size=0.2, stratify=y, random_state=42\n",
        "\n",
        ")\n",
        "\n",
        "\n",
        "\n",
        "# -----------------------------\n",
        "\n",
        "# 2) 모델 구성\n",
        "\n",
        "# -----------------------------\n",
        "\n",
        "dt = DecisionTreeClassifier(random_state=42)\n",
        "\n",
        "rf = RandomForestClassifier(n_estimators=200, random_state=42)\n",
        "\n",
        "lr = LogisticRegression(max_iter=500)\n",
        "\n",
        "\n",
        "\n",
        "# -----------------------------\n",
        "\n",
        "# 3) 모델 학습\n",
        "\n",
        "# -----------------------------\n",
        "\n",
        "dt.fit(X_train, y_train)\n",
        "\n",
        "rf.fit(X_train, y_train)\n",
        "\n",
        "lr.fit(X_train, y_train)\n",
        "\n",
        "\n",
        "\n",
        "# -----------------------------\n",
        "\n",
        "# 4) 모델 평가\n",
        "\n",
        "# -----------------------------\n",
        "\n",
        "dt_acc = accuracy_score(y_test, dt.predict(X_test))\n",
        "\n",
        "rf_acc = accuracy_score(y_test, rf.predict(X_test))\n",
        "\n",
        "lr_acc = accuracy_score(y_test, lr.predict(X_test))\n",
        "\n",
        "\n",
        "\n",
        "print(\"=== Test Accuracy ===\")\n",
        "\n",
        "print(f\"Decision Tree : {dt_acc:.4f}\")\n",
        "\n",
        "print(f\"Random Forest : {rf_acc:.4f}\")\n",
        "\n",
        "print(f\"Logistic Reg. : {lr_acc:.4f}\")"
      ]
    }
  ]
}